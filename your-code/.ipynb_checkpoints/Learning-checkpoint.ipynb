{
 "cells": [
  {
   "cell_type": "markdown",
   "metadata": {},
   "source": [
    "# Working with RSS Feeds\n",
    "\n",
    "\n",
    "Lesson Goals\n",
    "\n",
    "    Learn about the feedparser library\n",
    "    Use feedparser to parse RSS feeds\n",
    "    Explore the components of parsed RSS feeds\n",
    "    Convert results into data frames and conduct analysis\n",
    "\n",
    "Introduction\n",
    "\n",
    "In the previous lesson, we learned how to use Python to extract structured information from web APIs. In this lesson, we are going to take a look at another source of structured web content called RSS. RSS stands for Rich Site Summary or Really Simple Syndication, and it is a type of web feed which allows users and applications to access updates to online content in a standardized, computer-readable format (typically XML).\n",
    "\n",
    "Python has an excellent library called feedparser that is very useful for reading and parsing RSS feeds. We are going to be using this library throughout the lesson, so let's make sure it is installed and imported.\n",
    "\n",
    "$ pip install feedparser\n",
    "\n"
   ]
  },
  {
   "cell_type": "code",
   "execution_count": 1,
   "metadata": {},
   "outputs": [],
   "source": [
    "import feedparser"
   ]
  },
  {
   "cell_type": "markdown",
   "metadata": {},
   "source": [
    "# RSS Feed Versions Formats\n",
    "\n",
    "Due to the way web feeds evolved, there are various versions of RSS (0.9X, 1.0, 2.0, etc.) as well as alternate forms of feeds (Atom, CDF, etc.). We would have to worry about slight differences in formats if we were going to parse the feeds manually, but feedparser is able to handle all of them, so that is one less thing we need to worry about.\n",
    "\n",
    "\n",
    "# Parsing RSS Feeds\n",
    "\n",
    "To parse an RSS feed with feedparser, you just need to call its parse method and pass it a URL. Let's take a look at an example using the RSS feed for the tech subreddit category. "
   ]
  },
  {
   "cell_type": "code",
   "execution_count": 2,
   "metadata": {},
   "outputs": [],
   "source": [
    "reddit = feedparser.parse('https://www.reddit.com/r/tech.rss')"
   ]
  },
  {
   "cell_type": "markdown",
   "metadata": {},
   "source": [
    "If we take a look at the results, we will see a nested dictionary structure that contains a lot of information and looks something like the following."
   ]
  },
  {
   "cell_type": "code",
   "execution_count": 3,
   "metadata": {},
   "outputs": [
    {
     "name": "stdout",
     "output_type": "stream",
     "text": [
      "{'tags': [{'term': 'tech', 'scheme': None, 'label': 'r/tech'}], 'updated': '2020-11-15T06:45:02+00:00', 'updated_parsed': time.struct_time(tm_year=2020, tm_mon=11, tm_mday=15, tm_hour=6, tm_min=45, tm_sec=2, tm_wday=6, tm_yday=320, tm_isdst=0), 'icon': 'https://www.redditstatic.com/icon.png/', 'id': 'https://www.reddit.com/r/tech.rss', 'guidislink': True, 'link': 'https://www.reddit.com/r/tech', 'links': [{'rel': 'self', 'href': 'https://www.reddit.com/r/tech.rss', 'type': 'application/atom+xml'}, {'rel': 'alternate', 'href': 'https://www.reddit.com/r/tech', 'type': 'text/html'}], 'logo': 'https://f.thumbs.redditmedia.com/kI7eGVG6kaObGTdM.png', 'subtitle': 'The goal of /r/tech is to provide a space dedicated to the intelligent discussion of innovations and changes to technology in our ever changing world. We focus on high quality news articles about technology and informative and thought provoking self posts.', 'subtitle_detail': {'type': 'text/plain', 'language': None, 'base': 'https://www.reddit.com/r/tech.rss', 'value': 'The goal of /r/tech is to provide a space dedicated to the intelligent discussion of innovations and changes to technology in our ever changing world. We focus on high quality news articles about technology and informative and thought provoking self posts.'}, 'title': '/r/tech: Technological innovations and changes.', 'title_detail': {'type': 'text/plain', 'language': None, 'base': 'https://www.reddit.com/r/tech.rss', 'value': '/r/tech: Technological innovations and changes.'}}\n"
     ]
    }
   ],
   "source": [
    "print(reddit['feed'])"
   ]
  },
  {
   "cell_type": "markdown",
   "metadata": {},
   "source": [
    "This is great because we can now use what we learned earlier in the program about working with data structures to explore and extract the information we need from this.\n",
    "\n",
    "\n",
    "\n",
    "# Exploring the Parsed Feed\n",
    "\n",
    "Let's take a look at the first level of dictionary keys from the results and see what each of them looks like."
   ]
  },
  {
   "cell_type": "code",
   "execution_count": 4,
   "metadata": {},
   "outputs": [
    {
     "data": {
      "text/plain": [
       "dict_keys(['feed', 'entries', 'bozo', 'headers', 'href', 'status', 'encoding', 'version', 'namespaces'])"
      ]
     },
     "execution_count": 4,
     "metadata": {},
     "output_type": "execute_result"
    }
   ],
   "source": [
    "reddit.keys()"
   ]
  },
  {
   "cell_type": "markdown",
   "metadata": {},
   "source": [
    "These are the different components of the RSS feed, and each of them is going to contain information about something more specific. For example, feed is going to contain information about this Reddit RSS feed, entries is going to contain information about the specific entries in the feed, etc.\n",
    "\n",
    "Since the feed component is now structured as just a dictionary inside the larger dictionary, we can view its keys to get a sense of what type of information is available to us within the feed dictionary. "
   ]
  },
  {
   "cell_type": "code",
   "execution_count": 5,
   "metadata": {},
   "outputs": [
    {
     "data": {
      "text/plain": [
       "dict_keys(['tags', 'updated', 'updated_parsed', 'icon', 'id', 'guidislink', 'link', 'links', 'logo', 'subtitle', 'subtitle_detail', 'title', 'title_detail'])"
      ]
     },
     "execution_count": 5,
     "metadata": {},
     "output_type": "execute_result"
    }
   ],
   "source": [
    "reddit.feed.keys()"
   ]
  },
  {
   "cell_type": "markdown",
   "metadata": {},
   "source": [
    "Here, we can see that we would be able to extract any tags for the feed, when the feed was updated, and the icon image for the feed as well as the feed title, subtitle, and various other pieces of information about it. You can see what each of those looks like by calling each component from reddit.feed. "
   ]
  },
  {
   "cell_type": "code",
   "execution_count": 4,
   "metadata": {},
   "outputs": [
    {
     "name": "stdout",
     "output_type": "stream",
     "text": [
      "[{'term': 'tech', 'scheme': None, 'label': 'r/tech'}]\n",
      "\n",
      "https://www.redditstatic.com/icon.png/\n",
      "\n",
      "/r/tech: Technological innovations and changes.\n",
      "\n",
      "The goal of /r/tech is to provide a space dedicated to the intelligent discussion of innovations and changes to technology in our ever changing world. We focus on high quality news articles about technology and informative and thought provoking self posts.\n"
     ]
    }
   ],
   "source": [
    "print (reddit.feed.tags)\n",
    "print ('')\n",
    "print (reddit.feed.icon)\n",
    "print ('')\n",
    "print (reddit.feed.title)\n",
    "print ('')\n",
    "print (reddit.feed.subtitle)"
   ]
  },
  {
   "cell_type": "markdown",
   "metadata": {},
   "source": [
    "This is great, but the most interesting part of the feed is probably going to be the entries. We can access them as follows."
   ]
  },
  {
   "cell_type": "code",
   "execution_count": 7,
   "metadata": {},
   "outputs": [
    {
     "data": {
      "text/plain": [
       "{'authors': [{'name': '/u/OriginalHoneyBadger',\n",
       "   'href': 'https://www.reddit.com/user/OriginalHoneyBadger'}],\n",
       " 'author_detail': {'name': '/u/OriginalHoneyBadger',\n",
       "  'href': 'https://www.reddit.com/user/OriginalHoneyBadger'},\n",
       " 'href': 'https://www.reddit.com/user/OriginalHoneyBadger',\n",
       " 'author': '/u/OriginalHoneyBadger',\n",
       " 'tags': [{'term': 'tech', 'scheme': None, 'label': 'r/tech'}],\n",
       " 'content': [{'type': 'text/html',\n",
       "   'language': None,\n",
       "   'base': 'https://www.reddit.com/r/tech.rss',\n",
       "   'value': '<!-- SC_OFF --><div class=\"md\"><p>Hey guys!</p> <p>Thanks to <a href=\"/u/thonkerton\">/u/thonkerton</a>, <a href=\"/r/tech\">/r/tech</a> has an official discord server.</p> <p>The permanent join link is posted below, feel free to join and invite your friends. </p> <p>Should you have any questions, concerns or suggestions do not hesitate to reach out!</p> <p>Cheers!</p> <h4><a href=\"https://discord.gg/tech\">https://discord.gg/tech</a></h4> </div><!-- SC_ON --> &#32; submitted by &#32; <a href=\"https://www.reddit.com/user/OriginalHoneyBadger\"> /u/OriginalHoneyBadger </a> <br/> <span><a href=\"https://www.reddit.com/r/tech/comments/7dx2ew/rtech_now_has_its_own_discord_server/\">[link]</a></span> &#32; <span><a href=\"https://www.reddit.com/r/tech/comments/7dx2ew/rtech_now_has_its_own_discord_server/\">[comments]</a></span>'}],\n",
       " 'summary': '<!-- SC_OFF --><div class=\"md\"><p>Hey guys!</p> <p>Thanks to <a href=\"/u/thonkerton\">/u/thonkerton</a>, <a href=\"/r/tech\">/r/tech</a> has an official discord server.</p> <p>The permanent join link is posted below, feel free to join and invite your friends. </p> <p>Should you have any questions, concerns or suggestions do not hesitate to reach out!</p> <p>Cheers!</p> <h4><a href=\"https://discord.gg/tech\">https://discord.gg/tech</a></h4> </div><!-- SC_ON --> &#32; submitted by &#32; <a href=\"https://www.reddit.com/user/OriginalHoneyBadger\"> /u/OriginalHoneyBadger </a> <br/> <span><a href=\"https://www.reddit.com/r/tech/comments/7dx2ew/rtech_now_has_its_own_discord_server/\">[link]</a></span> &#32; <span><a href=\"https://www.reddit.com/r/tech/comments/7dx2ew/rtech_now_has_its_own_discord_server/\">[comments]</a></span>',\n",
       " 'id': 'https://www.reddit.com/r/t3_7dx2ew',\n",
       " 'guidislink': True,\n",
       " 'link': 'https://www.reddit.com/r/tech/comments/7dx2ew/rtech_now_has_its_own_discord_server/',\n",
       " 'links': [{'href': 'https://www.reddit.com/r/tech/comments/7dx2ew/rtech_now_has_its_own_discord_server/',\n",
       "   'rel': 'alternate',\n",
       "   'type': 'text/html'}],\n",
       " 'updated': '2017-11-19T00:37:30+00:00',\n",
       " 'updated_parsed': time.struct_time(tm_year=2017, tm_mon=11, tm_mday=19, tm_hour=0, tm_min=37, tm_sec=30, tm_wday=6, tm_yday=323, tm_isdst=0),\n",
       " 'title': \"/r/Tech now has it's own Discord server!\",\n",
       " 'title_detail': {'type': 'text/plain',\n",
       "  'language': None,\n",
       "  'base': 'https://www.reddit.com/r/tech.rss',\n",
       "  'value': \"/r/Tech now has it's own Discord server!\"}}"
      ]
     },
     "execution_count": 7,
     "metadata": {},
     "output_type": "execute_result"
    }
   ],
   "source": [
    "reddit.entries[0]"
   ]
  },
  {
   "cell_type": "markdown",
   "metadata": {},
   "source": [
    "We can see that the data structure within this seems to be a list where each entry is an element that contains a dictionary with the information for each entry. We can access the individual entries via indexing and then we can look at the keys available for the entry by calling the keys() method. "
   ]
  },
  {
   "cell_type": "code",
   "execution_count": 8,
   "metadata": {},
   "outputs": [
    {
     "data": {
      "text/plain": [
       "dict_keys(['authors', 'author_detail', 'href', 'author', 'tags', 'content', 'summary', 'id', 'guidislink', 'link', 'links', 'updated', 'updated_parsed', 'title', 'title_detail'])"
      ]
     },
     "execution_count": 8,
     "metadata": {},
     "output_type": "execute_result"
    }
   ],
   "source": [
    "reddit.entries[0].keys()"
   ]
  },
  {
   "cell_type": "markdown",
   "metadata": {},
   "source": [
    "If we wanted to obtain a particular piece of data for an entry, we could just index that entry and then call the key for the information we wanted. For example, if we wanted to get the title of the third entry, we would obtain it as follows.\n",
    "\n"
   ]
  },
  {
   "cell_type": "code",
   "execution_count": 9,
   "metadata": {},
   "outputs": [
    {
     "data": {
      "text/plain": [
       "'Nintendo president: ‘we must keep up’ with cloud gaming tech'"
      ]
     },
     "execution_count": 9,
     "metadata": {},
     "output_type": "execute_result"
    }
   ],
   "source": [
    "reddit.entries[2].title"
   ]
  },
  {
   "cell_type": "markdown",
   "metadata": {},
   "source": [
    "To extract the titles for all the entries, we could use a list comprehension."
   ]
  },
  {
   "cell_type": "code",
   "execution_count": 10,
   "metadata": {},
   "outputs": [
    {
     "name": "stdout",
     "output_type": "stream",
     "text": [
      "[\"/r/Tech now has it's own Discord server!\", \"FBI and ICE use DMV photos as 'gold mine' for facial recognition data.\", 'Nintendo president: ‘we must keep up’ with cloud gaming tech', \"Volkswagen's electric ID R race car broke its own Goodwood Hill Climb record\", 'Now you can check in on Bill Nye’s solar sail as it orbits Earth', 'Apple tests iCloud.com sign-ins with your face or finger', 'Huawei staff share deep links with Chinese military, new study claims-', 'Hype or hope? How important is blockchain?', \"Gmail Tracks Everything You Purchase and You Can't Delete It or Opt Out | Digital Trends\", 'is bandwidth(regarding wifi) inversely proportional to the effective range of network?', 'A portable Bluetooth cassette tape player brings retro audio into 2019', 'Idea for gaming laptop!', \"Twitter's Disinformation Data Dumps Are Helpful—to a Point\", 'Industrial Uses of Connectors And Custom Cable Assemblies', 'You can explore mazes of mirrors and light at teamLab Tokyo', '7-Eleven Japan shut down its mobile payment app after hackers stole $500,000 from users', 'AMD Launches 7nm Ryzen 3000 CPUs & Radeon RX 5700 GPUs', 'Formula E’s electric off-road SUV is an absolute unit', 'Wimbledon reworks AI tech to reduce bias in game highlights', 'Nio CEO cautiously eyes Europe entry for Chinese EV startup', 'Tesla shows off next-gen automated emergency braking stopping for pedestrians and cyclists', \"How Solar Panels Work (And Why They're Taking Over the World)\", 'DNA Data Storage Is Closer Than You Think', 'Google is testing a play button for Chrome’s toolbar', 'Google still keeps a list of everything you ever bought using Gmail, even if you delete all your emails.', 'Samsung files a new patent for a foldable display']\n"
     ]
    }
   ],
   "source": [
    "titles = [reddit.entries[i].title for i in range(len(reddit.entries))]\n",
    "print(titles)"
   ]
  },
  {
   "cell_type": "markdown",
   "metadata": {},
   "source": [
    "# Analyzing Data From an RSS Feed\n",
    "\n",
    "Thus far, feedparser has helped us obtain data from an RSS feed and structure in a way that makes it easy for us to explore it and extract the information we need. If we wanted to analyze the data further, we could leverage the Pandas library and create a data frame containing the information about entries in the feed."
   ]
  },
  {
   "cell_type": "code",
   "execution_count": 43,
   "metadata": {},
   "outputs": [
    {
     "data": {
      "text/html": [
       "<div>\n",
       "<style scoped>\n",
       "    .dataframe tbody tr th:only-of-type {\n",
       "        vertical-align: middle;\n",
       "    }\n",
       "\n",
       "    .dataframe tbody tr th {\n",
       "        vertical-align: top;\n",
       "    }\n",
       "\n",
       "    .dataframe thead th {\n",
       "        text-align: right;\n",
       "    }\n",
       "</style>\n",
       "<table border=\"1\" class=\"dataframe\">\n",
       "  <thead>\n",
       "    <tr style=\"text-align: right;\">\n",
       "      <th></th>\n",
       "      <th>authors</th>\n",
       "      <th>author_detail</th>\n",
       "      <th>href</th>\n",
       "      <th>author</th>\n",
       "      <th>tags</th>\n",
       "      <th>content</th>\n",
       "      <th>summary</th>\n",
       "      <th>id</th>\n",
       "      <th>guidislink</th>\n",
       "      <th>link</th>\n",
       "      <th>links</th>\n",
       "      <th>updated</th>\n",
       "      <th>updated_parsed</th>\n",
       "      <th>title</th>\n",
       "      <th>title_detail</th>\n",
       "    </tr>\n",
       "  </thead>\n",
       "  <tbody>\n",
       "    <tr>\n",
       "      <th>0</th>\n",
       "      <td>[{'name': '/u/OriginalHoneyBadger', 'href': 'h...</td>\n",
       "      <td>{'name': '/u/OriginalHoneyBadger', 'href': 'ht...</td>\n",
       "      <td>https://www.reddit.com/user/OriginalHoneyBadger</td>\n",
       "      <td>/u/OriginalHoneyBadger</td>\n",
       "      <td>[{'term': 'tech', 'scheme': None, 'label': 'r/...</td>\n",
       "      <td>[{'type': 'text/html', 'language': None, 'base...</td>\n",
       "      <td>&lt;!-- SC_OFF --&gt;&lt;div class=\"md\"&gt;&lt;p&gt;Hey guys!&lt;/p...</td>\n",
       "      <td>https://www.reddit.com/r/t3_7dx2ew</td>\n",
       "      <td>True</td>\n",
       "      <td>https://www.reddit.com/r/tech/comments/7dx2ew/...</td>\n",
       "      <td>[{'href': 'https://www.reddit.com/r/tech/comme...</td>\n",
       "      <td>2017-11-19T00:37:30+00:00</td>\n",
       "      <td>(2017, 11, 19, 0, 37, 30, 6, 323, 0)</td>\n",
       "      <td>/r/Tech now has it's own Discord server!</td>\n",
       "      <td>{'type': 'text/plain', 'language': None, 'base...</td>\n",
       "    </tr>\n",
       "    <tr>\n",
       "      <th>1</th>\n",
       "      <td>[{'name': '/u/GermanHackerDude', 'href': 'http...</td>\n",
       "      <td>{'name': '/u/GermanHackerDude', 'href': 'https...</td>\n",
       "      <td>https://www.reddit.com/user/GermanHackerDude</td>\n",
       "      <td>/u/GermanHackerDude</td>\n",
       "      <td>[{'term': 'tech', 'scheme': None, 'label': 'r/...</td>\n",
       "      <td>[{'type': 'text/html', 'language': None, 'base...</td>\n",
       "      <td>&lt;!-- SC_OFF --&gt;&lt;div class=\"md\"&gt;&lt;h1&gt;STILL OPEN ...</td>\n",
       "      <td>https://www.reddit.com/r/t3_h9n6u3</td>\n",
       "      <td>True</td>\n",
       "      <td>https://www.reddit.com/r/tech/comments/h9n6u3/...</td>\n",
       "      <td>[{'href': 'https://www.reddit.com/r/tech/comme...</td>\n",
       "      <td>2020-06-15T19:35:51+00:00</td>\n",
       "      <td>(2020, 6, 15, 19, 35, 51, 0, 167, 0)</td>\n",
       "      <td>The official r/Tech Discord is looking for mem...</td>\n",
       "      <td>{'type': 'text/plain', 'language': None, 'base...</td>\n",
       "    </tr>\n",
       "    <tr>\n",
       "      <th>2</th>\n",
       "      <td>[{'name': '/u/jsamwrites', 'href': 'https://ww...</td>\n",
       "      <td>{'name': '/u/jsamwrites', 'href': 'https://www...</td>\n",
       "      <td>https://www.reddit.com/user/jsamwrites</td>\n",
       "      <td>/u/jsamwrites</td>\n",
       "      <td>[{'term': 'tech', 'scheme': None, 'label': 'r/...</td>\n",
       "      <td>[{'type': 'text/html', 'language': None, 'base...</td>\n",
       "      <td>&amp;#32; submitted by &amp;#32; &lt;a href=\"https://www....</td>\n",
       "      <td>https://www.reddit.com/r/t3_ju6fua</td>\n",
       "      <td>True</td>\n",
       "      <td>https://www.reddit.com/r/tech/comments/ju6fua/...</td>\n",
       "      <td>[{'href': 'https://www.reddit.com/r/tech/comme...</td>\n",
       "      <td>2020-11-14T18:17:48+00:00</td>\n",
       "      <td>(2020, 11, 14, 18, 17, 48, 5, 319, 0)</td>\n",
       "      <td>How Google built its AI-powered Hum to Search ...</td>\n",
       "      <td>{'type': 'text/plain', 'language': None, 'base...</td>\n",
       "    </tr>\n",
       "    <tr>\n",
       "      <th>3</th>\n",
       "      <td>[{'name': '/u/Riddla26', 'href': 'https://www....</td>\n",
       "      <td>{'name': '/u/Riddla26', 'href': 'https://www.r...</td>\n",
       "      <td>https://www.reddit.com/user/Riddla26</td>\n",
       "      <td>/u/Riddla26</td>\n",
       "      <td>[{'term': 'tech', 'scheme': None, 'label': 'r/...</td>\n",
       "      <td>[{'type': 'text/html', 'language': None, 'base...</td>\n",
       "      <td>&amp;#32; submitted by &amp;#32; &lt;a href=\"https://www....</td>\n",
       "      <td>https://www.reddit.com/r/t3_jto05f</td>\n",
       "      <td>True</td>\n",
       "      <td>https://www.reddit.com/r/tech/comments/jto05f/...</td>\n",
       "      <td>[{'href': 'https://www.reddit.com/r/tech/comme...</td>\n",
       "      <td>2020-11-13T20:42:41+00:00</td>\n",
       "      <td>(2020, 11, 13, 20, 42, 41, 4, 318, 0)</td>\n",
       "      <td>A website header code has been circulating the...</td>\n",
       "      <td>{'type': 'text/plain', 'language': None, 'base...</td>\n",
       "    </tr>\n",
       "    <tr>\n",
       "      <th>4</th>\n",
       "      <td>[{'name': '/u/BikkaZz', 'href': 'https://www.r...</td>\n",
       "      <td>{'name': '/u/BikkaZz', 'href': 'https://www.re...</td>\n",
       "      <td>https://www.reddit.com/user/BikkaZz</td>\n",
       "      <td>/u/BikkaZz</td>\n",
       "      <td>[{'term': 'tech', 'scheme': None, 'label': 'r/...</td>\n",
       "      <td>[{'type': 'text/html', 'language': None, 'base...</td>\n",
       "      <td>&lt;!-- SC_OFF --&gt;&lt;div class=\"md\"&gt;&lt;p&gt;. Huawei, am...</td>\n",
       "      <td>https://www.reddit.com/r/t3_juejmd</td>\n",
       "      <td>True</td>\n",
       "      <td>https://www.reddit.com/r/tech/comments/juejmd/...</td>\n",
       "      <td>[{'href': 'https://www.reddit.com/r/tech/comme...</td>\n",
       "      <td>2020-11-15T02:41:36+00:00</td>\n",
       "      <td>(2020, 11, 15, 2, 41, 36, 6, 320, 0)</td>\n",
       "      <td>USA-China new digital Cold War?</td>\n",
       "      <td>{'type': 'text/plain', 'language': None, 'base...</td>\n",
       "    </tr>\n",
       "  </tbody>\n",
       "</table>\n",
       "</div>"
      ],
      "text/plain": [
       "                                             authors  \\\n",
       "0  [{'name': '/u/OriginalHoneyBadger', 'href': 'h...   \n",
       "1  [{'name': '/u/GermanHackerDude', 'href': 'http...   \n",
       "2  [{'name': '/u/jsamwrites', 'href': 'https://ww...   \n",
       "3  [{'name': '/u/Riddla26', 'href': 'https://www....   \n",
       "4  [{'name': '/u/BikkaZz', 'href': 'https://www.r...   \n",
       "\n",
       "                                       author_detail  \\\n",
       "0  {'name': '/u/OriginalHoneyBadger', 'href': 'ht...   \n",
       "1  {'name': '/u/GermanHackerDude', 'href': 'https...   \n",
       "2  {'name': '/u/jsamwrites', 'href': 'https://www...   \n",
       "3  {'name': '/u/Riddla26', 'href': 'https://www.r...   \n",
       "4  {'name': '/u/BikkaZz', 'href': 'https://www.re...   \n",
       "\n",
       "                                              href                  author  \\\n",
       "0  https://www.reddit.com/user/OriginalHoneyBadger  /u/OriginalHoneyBadger   \n",
       "1     https://www.reddit.com/user/GermanHackerDude     /u/GermanHackerDude   \n",
       "2           https://www.reddit.com/user/jsamwrites           /u/jsamwrites   \n",
       "3             https://www.reddit.com/user/Riddla26             /u/Riddla26   \n",
       "4              https://www.reddit.com/user/BikkaZz              /u/BikkaZz   \n",
       "\n",
       "                                                tags  \\\n",
       "0  [{'term': 'tech', 'scheme': None, 'label': 'r/...   \n",
       "1  [{'term': 'tech', 'scheme': None, 'label': 'r/...   \n",
       "2  [{'term': 'tech', 'scheme': None, 'label': 'r/...   \n",
       "3  [{'term': 'tech', 'scheme': None, 'label': 'r/...   \n",
       "4  [{'term': 'tech', 'scheme': None, 'label': 'r/...   \n",
       "\n",
       "                                             content  \\\n",
       "0  [{'type': 'text/html', 'language': None, 'base...   \n",
       "1  [{'type': 'text/html', 'language': None, 'base...   \n",
       "2  [{'type': 'text/html', 'language': None, 'base...   \n",
       "3  [{'type': 'text/html', 'language': None, 'base...   \n",
       "4  [{'type': 'text/html', 'language': None, 'base...   \n",
       "\n",
       "                                             summary  \\\n",
       "0  <!-- SC_OFF --><div class=\"md\"><p>Hey guys!</p...   \n",
       "1  <!-- SC_OFF --><div class=\"md\"><h1>STILL OPEN ...   \n",
       "2  &#32; submitted by &#32; <a href=\"https://www....   \n",
       "3  &#32; submitted by &#32; <a href=\"https://www....   \n",
       "4  <!-- SC_OFF --><div class=\"md\"><p>. Huawei, am...   \n",
       "\n",
       "                                   id  guidislink  \\\n",
       "0  https://www.reddit.com/r/t3_7dx2ew        True   \n",
       "1  https://www.reddit.com/r/t3_h9n6u3        True   \n",
       "2  https://www.reddit.com/r/t3_ju6fua        True   \n",
       "3  https://www.reddit.com/r/t3_jto05f        True   \n",
       "4  https://www.reddit.com/r/t3_juejmd        True   \n",
       "\n",
       "                                                link  \\\n",
       "0  https://www.reddit.com/r/tech/comments/7dx2ew/...   \n",
       "1  https://www.reddit.com/r/tech/comments/h9n6u3/...   \n",
       "2  https://www.reddit.com/r/tech/comments/ju6fua/...   \n",
       "3  https://www.reddit.com/r/tech/comments/jto05f/...   \n",
       "4  https://www.reddit.com/r/tech/comments/juejmd/...   \n",
       "\n",
       "                                               links  \\\n",
       "0  [{'href': 'https://www.reddit.com/r/tech/comme...   \n",
       "1  [{'href': 'https://www.reddit.com/r/tech/comme...   \n",
       "2  [{'href': 'https://www.reddit.com/r/tech/comme...   \n",
       "3  [{'href': 'https://www.reddit.com/r/tech/comme...   \n",
       "4  [{'href': 'https://www.reddit.com/r/tech/comme...   \n",
       "\n",
       "                     updated                         updated_parsed  \\\n",
       "0  2017-11-19T00:37:30+00:00   (2017, 11, 19, 0, 37, 30, 6, 323, 0)   \n",
       "1  2020-06-15T19:35:51+00:00   (2020, 6, 15, 19, 35, 51, 0, 167, 0)   \n",
       "2  2020-11-14T18:17:48+00:00  (2020, 11, 14, 18, 17, 48, 5, 319, 0)   \n",
       "3  2020-11-13T20:42:41+00:00  (2020, 11, 13, 20, 42, 41, 4, 318, 0)   \n",
       "4  2020-11-15T02:41:36+00:00   (2020, 11, 15, 2, 41, 36, 6, 320, 0)   \n",
       "\n",
       "                                               title  \\\n",
       "0           /r/Tech now has it's own Discord server!   \n",
       "1  The official r/Tech Discord is looking for mem...   \n",
       "2  How Google built its AI-powered Hum to Search ...   \n",
       "3  A website header code has been circulating the...   \n",
       "4                    USA-China new digital Cold War?   \n",
       "\n",
       "                                        title_detail  \n",
       "0  {'type': 'text/plain', 'language': None, 'base...  \n",
       "1  {'type': 'text/plain', 'language': None, 'base...  \n",
       "2  {'type': 'text/plain', 'language': None, 'base...  \n",
       "3  {'type': 'text/plain', 'language': None, 'base...  \n",
       "4  {'type': 'text/plain', 'language': None, 'base...  "
      ]
     },
     "execution_count": 43,
     "metadata": {},
     "output_type": "execute_result"
    }
   ],
   "source": [
    "import pandas as pd\n",
    "\n",
    "df = pd.DataFrame(reddit.entries)\n",
    "df.head()"
   ]
  },
  {
   "cell_type": "markdown",
   "metadata": {},
   "source": [
    "Now that we have the information in a data frame, we can use Pandas to perform a variety of aggregations and calculations. For example, suppose we wanted to know which author has posted the most entries. We could do that by aggregating by author, counting the number of entry titles, and then sorting the results in descending order."
   ]
  },
  {
   "cell_type": "code",
   "execution_count": 41,
   "metadata": {},
   "outputs": [
    {
     "data": {
      "text/html": [
       "<div>\n",
       "<style scoped>\n",
       "    .dataframe tbody tr th:only-of-type {\n",
       "        vertical-align: middle;\n",
       "    }\n",
       "\n",
       "    .dataframe tbody tr th {\n",
       "        vertical-align: top;\n",
       "    }\n",
       "\n",
       "    .dataframe thead th {\n",
       "        text-align: right;\n",
       "    }\n",
       "</style>\n",
       "<table border=\"1\" class=\"dataframe\">\n",
       "  <thead>\n",
       "    <tr style=\"text-align: right;\">\n",
       "      <th></th>\n",
       "      <th>author</th>\n",
       "      <th>entries</th>\n",
       "    </tr>\n",
       "  </thead>\n",
       "  <tbody>\n",
       "    <tr>\n",
       "      <th>21</th>\n",
       "      <td>/u/snooshoe</td>\n",
       "      <td>3</td>\n",
       "    </tr>\n",
       "    <tr>\n",
       "      <th>14</th>\n",
       "      <td>/u/eberkut</td>\n",
       "      <td>2</td>\n",
       "    </tr>\n",
       "    <tr>\n",
       "      <th>0</th>\n",
       "      <td>/u/12345tommy</td>\n",
       "      <td>1</td>\n",
       "    </tr>\n",
       "    <tr>\n",
       "      <th>1</th>\n",
       "      <td>/u/BikkaZz</td>\n",
       "      <td>1</td>\n",
       "    </tr>\n",
       "    <tr>\n",
       "      <th>22</th>\n",
       "      <td>/u/somewhatimportantnew</td>\n",
       "      <td>1</td>\n",
       "    </tr>\n",
       "    <tr>\n",
       "      <th>20</th>\n",
       "      <td>/u/rieslingatkos</td>\n",
       "      <td>1</td>\n",
       "    </tr>\n",
       "    <tr>\n",
       "      <th>19</th>\n",
       "      <td>/u/mnyerhij</td>\n",
       "      <td>1</td>\n",
       "    </tr>\n",
       "    <tr>\n",
       "      <th>18</th>\n",
       "      <td>/u/lucky_my_ass</td>\n",
       "      <td>1</td>\n",
       "    </tr>\n",
       "    <tr>\n",
       "      <th>17</th>\n",
       "      <td>/u/jsamwrites</td>\n",
       "      <td>1</td>\n",
       "    </tr>\n",
       "    <tr>\n",
       "      <th>16</th>\n",
       "      <td>/u/gianinix</td>\n",
       "      <td>1</td>\n",
       "    </tr>\n",
       "    <tr>\n",
       "      <th>15</th>\n",
       "      <td>/u/fuufufufuf</td>\n",
       "      <td>1</td>\n",
       "    </tr>\n",
       "    <tr>\n",
       "      <th>13</th>\n",
       "      <td>/u/djwired</td>\n",
       "      <td>1</td>\n",
       "    </tr>\n",
       "    <tr>\n",
       "      <th>12</th>\n",
       "      <td>/u/bartturner</td>\n",
       "      <td>1</td>\n",
       "    </tr>\n",
       "    <tr>\n",
       "      <th>11</th>\n",
       "      <td>/u/VenoricaSamira</td>\n",
       "      <td>1</td>\n",
       "    </tr>\n",
       "    <tr>\n",
       "      <th>10</th>\n",
       "      <td>/u/UTUSBN533000</td>\n",
       "      <td>1</td>\n",
       "    </tr>\n",
       "    <tr>\n",
       "      <th>9</th>\n",
       "      <td>/u/TheArchGriffin</td>\n",
       "      <td>1</td>\n",
       "    </tr>\n",
       "    <tr>\n",
       "      <th>8</th>\n",
       "      <td>/u/RitaAura</td>\n",
       "      <td>1</td>\n",
       "    </tr>\n",
       "    <tr>\n",
       "      <th>7</th>\n",
       "      <td>/u/Riddla26</td>\n",
       "      <td>1</td>\n",
       "    </tr>\n",
       "    <tr>\n",
       "      <th>6</th>\n",
       "      <td>/u/RagnarNilsson</td>\n",
       "      <td>1</td>\n",
       "    </tr>\n",
       "    <tr>\n",
       "      <th>5</th>\n",
       "      <td>/u/OriginalHoneyBadger</td>\n",
       "      <td>1</td>\n",
       "    </tr>\n",
       "    <tr>\n",
       "      <th>4</th>\n",
       "      <td>/u/JimmieNordin</td>\n",
       "      <td>1</td>\n",
       "    </tr>\n",
       "    <tr>\n",
       "      <th>3</th>\n",
       "      <td>/u/GermanHackerDude</td>\n",
       "      <td>1</td>\n",
       "    </tr>\n",
       "    <tr>\n",
       "      <th>2</th>\n",
       "      <td>/u/EmmaAcklandd</td>\n",
       "      <td>1</td>\n",
       "    </tr>\n",
       "    <tr>\n",
       "      <th>23</th>\n",
       "      <td>/u/yikesRunForTheHills</td>\n",
       "      <td>1</td>\n",
       "    </tr>\n",
       "  </tbody>\n",
       "</table>\n",
       "</div>"
      ],
      "text/plain": [
       "                     author  entries\n",
       "21              /u/snooshoe        3\n",
       "14               /u/eberkut        2\n",
       "0             /u/12345tommy        1\n",
       "1                /u/BikkaZz        1\n",
       "22  /u/somewhatimportantnew        1\n",
       "20         /u/rieslingatkos        1\n",
       "19              /u/mnyerhij        1\n",
       "18          /u/lucky_my_ass        1\n",
       "17            /u/jsamwrites        1\n",
       "16              /u/gianinix        1\n",
       "15            /u/fuufufufuf        1\n",
       "13               /u/djwired        1\n",
       "12            /u/bartturner        1\n",
       "11        /u/VenoricaSamira        1\n",
       "10          /u/UTUSBN533000        1\n",
       "9         /u/TheArchGriffin        1\n",
       "8               /u/RitaAura        1\n",
       "7               /u/Riddla26        1\n",
       "6          /u/RagnarNilsson        1\n",
       "5    /u/OriginalHoneyBadger        1\n",
       "4           /u/JimmieNordin        1\n",
       "3       /u/GermanHackerDude        1\n",
       "2           /u/EmmaAcklandd        1\n",
       "23   /u/yikesRunForTheHills        1"
      ]
     },
     "execution_count": 41,
     "metadata": {},
     "output_type": "execute_result"
    }
   ],
   "source": [
    "authors = df.groupby('author', as_index=False).agg({'title':'count'})\n",
    "authors.columns = ['author', 'entries']\n",
    "authors\n",
    "authors.sort_values('entries', ascending=False,ignore_index=False)"
   ]
  },
  {
   "cell_type": "markdown",
   "metadata": {},
   "source": [
    "Similarly, if we wanted to see which entries had the longest titles, we could create a new column called title_length that contains the number of characters in the title and then sort the data frame by that new column. "
   ]
  },
  {
   "cell_type": "code",
   "execution_count": 47,
   "metadata": {},
   "outputs": [
    {
     "data": {
      "text/html": [
       "<div>\n",
       "<style scoped>\n",
       "    .dataframe tbody tr th:only-of-type {\n",
       "        vertical-align: middle;\n",
       "    }\n",
       "\n",
       "    .dataframe tbody tr th {\n",
       "        vertical-align: top;\n",
       "    }\n",
       "\n",
       "    .dataframe thead th {\n",
       "        text-align: right;\n",
       "    }\n",
       "</style>\n",
       "<table border=\"1\" class=\"dataframe\">\n",
       "  <thead>\n",
       "    <tr style=\"text-align: right;\">\n",
       "      <th></th>\n",
       "      <th>title</th>\n",
       "      <th>author</th>\n",
       "      <th>title_length</th>\n",
       "    </tr>\n",
       "  </thead>\n",
       "  <tbody>\n",
       "    <tr>\n",
       "      <th>3</th>\n",
       "      <td>A website header code has been circulating the...</td>\n",
       "      <td>/u/Riddla26</td>\n",
       "      <td>290</td>\n",
       "    </tr>\n",
       "    <tr>\n",
       "      <th>12</th>\n",
       "      <td>Computer Scientists Achieve ‘Crown Jewel’ of C...</td>\n",
       "      <td>/u/rieslingatkos</td>\n",
       "      <td>222</td>\n",
       "    </tr>\n",
       "    <tr>\n",
       "      <th>10</th>\n",
       "      <td>When Clayton Christensen talked about innovati...</td>\n",
       "      <td>/u/fuufufufuf</td>\n",
       "      <td>196</td>\n",
       "    </tr>\n",
       "    <tr>\n",
       "      <th>17</th>\n",
       "      <td>A Future Internet for Democracies: Contesting ...</td>\n",
       "      <td>/u/snooshoe</td>\n",
       "      <td>114</td>\n",
       "    </tr>\n",
       "    <tr>\n",
       "      <th>23</th>\n",
       "      <td>HP Replaces 'Free Ink for Life' Plan With '99 ...</td>\n",
       "      <td>/u/gianinix</td>\n",
       "      <td>101</td>\n",
       "    </tr>\n",
       "  </tbody>\n",
       "</table>\n",
       "</div>"
      ],
      "text/plain": [
       "                                                title            author  \\\n",
       "3   A website header code has been circulating the...       /u/Riddla26   \n",
       "12  Computer Scientists Achieve ‘Crown Jewel’ of C...  /u/rieslingatkos   \n",
       "10  When Clayton Christensen talked about innovati...     /u/fuufufufuf   \n",
       "17  A Future Internet for Democracies: Contesting ...       /u/snooshoe   \n",
       "23  HP Replaces 'Free Ink for Life' Plan With '99 ...       /u/gianinix   \n",
       "\n",
       "    title_length  \n",
       "3            290  \n",
       "12           222  \n",
       "10           196  \n",
       "17           114  \n",
       "23           101  "
      ]
     },
     "execution_count": 47,
     "metadata": {},
     "output_type": "execute_result"
    }
   ],
   "source": [
    "df['title_length'] = df['title'].apply(len)\n",
    "df[['title', 'author', 'title_length']].sort_values('title_length', ascending=False).head()"
   ]
  },
  {
   "cell_type": "markdown",
   "metadata": {},
   "source": [
    "These are just a couple of the things you can analyze about the entries using the information we were able to obtain."
   ]
  },
  {
   "cell_type": "code",
   "execution_count": null,
   "metadata": {},
   "outputs": [],
   "source": []
  }
 ],
 "metadata": {
  "kernelspec": {
   "display_name": "Python 3",
   "language": "python",
   "name": "python3"
  },
  "language_info": {
   "codemirror_mode": {
    "name": "ipython",
    "version": 3
   },
   "file_extension": ".py",
   "mimetype": "text/x-python",
   "name": "python",
   "nbconvert_exporter": "python",
   "pygments_lexer": "ipython3",
   "version": "3.8.3"
  }
 },
 "nbformat": 4,
 "nbformat_minor": 2
}
